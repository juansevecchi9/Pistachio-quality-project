{
  "nbformat": 4,
  "nbformat_minor": 0,
  "metadata": {
    "colab": {
      "name": "Pistachio type predictor (classification template).ipynb",
      "provenance": [],
      "collapsed_sections": [],
      "authorship_tag": "ABX9TyOcGnqXPrkAyg2WWrKbz+q8",
      "include_colab_link": true
    },
    "kernelspec": {
      "name": "python3",
      "display_name": "Python 3"
    },
    "language_info": {
      "name": "python"
    }
  },
  "cells": [
    {
      "cell_type": "markdown",
      "metadata": {
        "id": "view-in-github",
        "colab_type": "text"
      },
      "source": [
        "<a href=\"https://colab.research.google.com/github/juansevecchi9/Pistachio-quality-project/blob/main/Pistachio_type_predictor_(classification_template).ipynb\" target=\"_parent\"><img src=\"https://colab.research.google.com/assets/colab-badge.svg\" alt=\"Open In Colab\"/></a>"
      ]
    },
    {
      "cell_type": "code",
      "source": [
        "#Importar librerías\n",
        "\n",
        "import pandas as pd\n",
        "from matplotlib import pyplot as plt\n",
        "import tensorflow as tf\n",
        "from tensorflow.keras import Sequential \n",
        "from tensorflow.keras.layers import Dense, Dropout\n",
        "from tensorflow.keras.optimizers import Adam\n",
        "from sklearn import preprocessing\n",
        "from sklearn.model_selection import train_test_split\n",
        "\n",
        "from google.colab import drive   #   To use data stored in Drive.\n",
        "drive.mount('/content/drive')"
      ],
      "metadata": {
        "colab": {
          "base_uri": "https://localhost:8080/"
        },
        "id": "JbDMzbZ-B_zk",
        "outputId": "12361826-c5d7-4c8e-c978-0c672ac1a94d"
      },
      "execution_count": null,
      "outputs": [
        {
          "output_type": "stream",
          "name": "stdout",
          "text": [
            "Drive already mounted at /content/drive; to attempt to forcibly remount, call drive.mount(\"/content/drive\", force_remount=True).\n"
          ]
        }
      ]
    },
    {
      "cell_type": "code",
      "source": [
        "#Leer dataset\n",
        "df = pd.read_csv('/content/drive/MyDrive/ion.csv')\n",
        "df"
      ],
      "metadata": {
        "colab": {
          "base_uri": "https://localhost:8080/",
          "height": 505
        },
        "id": "wU7sESl1CtBB",
        "outputId": "43a97aa1-b7af-4267-ab03-9a666ade6a76"
      },
      "execution_count": null,
      "outputs": [
        {
          "output_type": "execute_result",
          "data": {
            "text/plain": [
              "     Unnamed: 0  V1  V2       V3       V4       V5       V6       V7       V8  \\\n",
              "0             1   1   0  0.99539 -0.05889  0.85243  0.02306  0.83398 -0.37708   \n",
              "1             2   1   0  1.00000 -0.18829  0.93035 -0.36156 -0.10868 -0.93597   \n",
              "2             3   1   0  1.00000 -0.03365  1.00000  0.00485  1.00000 -0.12062   \n",
              "3             4   1   0  1.00000 -0.45161  1.00000  1.00000  0.71216 -1.00000   \n",
              "4             5   1   0  1.00000 -0.02401  0.94140  0.06531  0.92106 -0.23255   \n",
              "..          ...  ..  ..      ...      ...      ...      ...      ...      ...   \n",
              "346         347   1   0  0.83508  0.08298  0.73739 -0.14706  0.84349 -0.05567   \n",
              "347         348   1   0  0.95113  0.00419  0.95183 -0.02723  0.93438 -0.01920   \n",
              "348         349   1   0  0.94701 -0.00034  0.93207 -0.03227  0.95177 -0.03431   \n",
              "349         350   1   0  0.90608 -0.01657  0.98122 -0.01989  0.95691 -0.03646   \n",
              "350         351   1   0  0.84710  0.13533  0.73638 -0.06151  0.87873  0.08260   \n",
              "\n",
              "          V9  ...      V26      V27      V28      V29      V30      V31  \\\n",
              "0    1.00000  ... -0.51171  0.41078 -0.46168  0.21266 -0.34090  0.42267   \n",
              "1    1.00000  ... -0.26569 -0.20468 -0.18401 -0.19040 -0.11593 -0.16626   \n",
              "2    0.88965  ... -0.40220  0.58984 -0.22145  0.43100 -0.17365  0.60436   \n",
              "3    0.00000  ...  0.90695  0.51613  1.00000  1.00000 -0.20099  0.25682   \n",
              "4    0.77152  ... -0.65158  0.13290 -0.53206  0.02431 -0.62197 -0.05707   \n",
              "..       ...  ...      ...      ...      ...      ...      ...      ...   \n",
              "346  0.90441  ... -0.04202  0.83479  0.00123  1.00000  0.12815  0.86660   \n",
              "347  0.94590  ...  0.01361  0.93522  0.04925  0.93159  0.08168  0.94066   \n",
              "348  0.95584  ...  0.03193  0.92489  0.02542  0.92120  0.02242  0.92459   \n",
              "349  0.85746  ... -0.02099  0.89147 -0.07760  0.82983 -0.17238  0.96022   \n",
              "350  0.88928  ... -0.15114  0.81147 -0.04822  0.78207 -0.00703  0.75747   \n",
              "\n",
              "         V32      V33      V34  Class  \n",
              "0   -0.54487  0.18641 -0.45300   good  \n",
              "1   -0.06288 -0.13738 -0.02447    bad  \n",
              "2   -0.24180  0.56045 -0.38238   good  \n",
              "3    1.00000 -0.32382  1.00000    bad  \n",
              "4   -0.59573 -0.04608 -0.65697   good  \n",
              "..       ...      ...      ...    ...  \n",
              "346 -0.10714  0.90546 -0.04307   good  \n",
              "347 -0.00035  0.91483  0.04712   good  \n",
              "348  0.00442  0.92697 -0.00577   good  \n",
              "349 -0.03757  0.87403 -0.16243   good  \n",
              "350 -0.06678  0.85764 -0.06151   good  \n",
              "\n",
              "[351 rows x 36 columns]"
            ],
            "text/html": [
              "\n",
              "  <div id=\"df-6656432e-a208-4028-b131-5e7461cefe58\">\n",
              "    <div class=\"colab-df-container\">\n",
              "      <div>\n",
              "<style scoped>\n",
              "    .dataframe tbody tr th:only-of-type {\n",
              "        vertical-align: middle;\n",
              "    }\n",
              "\n",
              "    .dataframe tbody tr th {\n",
              "        vertical-align: top;\n",
              "    }\n",
              "\n",
              "    .dataframe thead th {\n",
              "        text-align: right;\n",
              "    }\n",
              "</style>\n",
              "<table border=\"1\" class=\"dataframe\">\n",
              "  <thead>\n",
              "    <tr style=\"text-align: right;\">\n",
              "      <th></th>\n",
              "      <th>Unnamed: 0</th>\n",
              "      <th>V1</th>\n",
              "      <th>V2</th>\n",
              "      <th>V3</th>\n",
              "      <th>V4</th>\n",
              "      <th>V5</th>\n",
              "      <th>V6</th>\n",
              "      <th>V7</th>\n",
              "      <th>V8</th>\n",
              "      <th>V9</th>\n",
              "      <th>...</th>\n",
              "      <th>V26</th>\n",
              "      <th>V27</th>\n",
              "      <th>V28</th>\n",
              "      <th>V29</th>\n",
              "      <th>V30</th>\n",
              "      <th>V31</th>\n",
              "      <th>V32</th>\n",
              "      <th>V33</th>\n",
              "      <th>V34</th>\n",
              "      <th>Class</th>\n",
              "    </tr>\n",
              "  </thead>\n",
              "  <tbody>\n",
              "    <tr>\n",
              "      <th>0</th>\n",
              "      <td>1</td>\n",
              "      <td>1</td>\n",
              "      <td>0</td>\n",
              "      <td>0.99539</td>\n",
              "      <td>-0.05889</td>\n",
              "      <td>0.85243</td>\n",
              "      <td>0.02306</td>\n",
              "      <td>0.83398</td>\n",
              "      <td>-0.37708</td>\n",
              "      <td>1.00000</td>\n",
              "      <td>...</td>\n",
              "      <td>-0.51171</td>\n",
              "      <td>0.41078</td>\n",
              "      <td>-0.46168</td>\n",
              "      <td>0.21266</td>\n",
              "      <td>-0.34090</td>\n",
              "      <td>0.42267</td>\n",
              "      <td>-0.54487</td>\n",
              "      <td>0.18641</td>\n",
              "      <td>-0.45300</td>\n",
              "      <td>good</td>\n",
              "    </tr>\n",
              "    <tr>\n",
              "      <th>1</th>\n",
              "      <td>2</td>\n",
              "      <td>1</td>\n",
              "      <td>0</td>\n",
              "      <td>1.00000</td>\n",
              "      <td>-0.18829</td>\n",
              "      <td>0.93035</td>\n",
              "      <td>-0.36156</td>\n",
              "      <td>-0.10868</td>\n",
              "      <td>-0.93597</td>\n",
              "      <td>1.00000</td>\n",
              "      <td>...</td>\n",
              "      <td>-0.26569</td>\n",
              "      <td>-0.20468</td>\n",
              "      <td>-0.18401</td>\n",
              "      <td>-0.19040</td>\n",
              "      <td>-0.11593</td>\n",
              "      <td>-0.16626</td>\n",
              "      <td>-0.06288</td>\n",
              "      <td>-0.13738</td>\n",
              "      <td>-0.02447</td>\n",
              "      <td>bad</td>\n",
              "    </tr>\n",
              "    <tr>\n",
              "      <th>2</th>\n",
              "      <td>3</td>\n",
              "      <td>1</td>\n",
              "      <td>0</td>\n",
              "      <td>1.00000</td>\n",
              "      <td>-0.03365</td>\n",
              "      <td>1.00000</td>\n",
              "      <td>0.00485</td>\n",
              "      <td>1.00000</td>\n",
              "      <td>-0.12062</td>\n",
              "      <td>0.88965</td>\n",
              "      <td>...</td>\n",
              "      <td>-0.40220</td>\n",
              "      <td>0.58984</td>\n",
              "      <td>-0.22145</td>\n",
              "      <td>0.43100</td>\n",
              "      <td>-0.17365</td>\n",
              "      <td>0.60436</td>\n",
              "      <td>-0.24180</td>\n",
              "      <td>0.56045</td>\n",
              "      <td>-0.38238</td>\n",
              "      <td>good</td>\n",
              "    </tr>\n",
              "    <tr>\n",
              "      <th>3</th>\n",
              "      <td>4</td>\n",
              "      <td>1</td>\n",
              "      <td>0</td>\n",
              "      <td>1.00000</td>\n",
              "      <td>-0.45161</td>\n",
              "      <td>1.00000</td>\n",
              "      <td>1.00000</td>\n",
              "      <td>0.71216</td>\n",
              "      <td>-1.00000</td>\n",
              "      <td>0.00000</td>\n",
              "      <td>...</td>\n",
              "      <td>0.90695</td>\n",
              "      <td>0.51613</td>\n",
              "      <td>1.00000</td>\n",
              "      <td>1.00000</td>\n",
              "      <td>-0.20099</td>\n",
              "      <td>0.25682</td>\n",
              "      <td>1.00000</td>\n",
              "      <td>-0.32382</td>\n",
              "      <td>1.00000</td>\n",
              "      <td>bad</td>\n",
              "    </tr>\n",
              "    <tr>\n",
              "      <th>4</th>\n",
              "      <td>5</td>\n",
              "      <td>1</td>\n",
              "      <td>0</td>\n",
              "      <td>1.00000</td>\n",
              "      <td>-0.02401</td>\n",
              "      <td>0.94140</td>\n",
              "      <td>0.06531</td>\n",
              "      <td>0.92106</td>\n",
              "      <td>-0.23255</td>\n",
              "      <td>0.77152</td>\n",
              "      <td>...</td>\n",
              "      <td>-0.65158</td>\n",
              "      <td>0.13290</td>\n",
              "      <td>-0.53206</td>\n",
              "      <td>0.02431</td>\n",
              "      <td>-0.62197</td>\n",
              "      <td>-0.05707</td>\n",
              "      <td>-0.59573</td>\n",
              "      <td>-0.04608</td>\n",
              "      <td>-0.65697</td>\n",
              "      <td>good</td>\n",
              "    </tr>\n",
              "    <tr>\n",
              "      <th>...</th>\n",
              "      <td>...</td>\n",
              "      <td>...</td>\n",
              "      <td>...</td>\n",
              "      <td>...</td>\n",
              "      <td>...</td>\n",
              "      <td>...</td>\n",
              "      <td>...</td>\n",
              "      <td>...</td>\n",
              "      <td>...</td>\n",
              "      <td>...</td>\n",
              "      <td>...</td>\n",
              "      <td>...</td>\n",
              "      <td>...</td>\n",
              "      <td>...</td>\n",
              "      <td>...</td>\n",
              "      <td>...</td>\n",
              "      <td>...</td>\n",
              "      <td>...</td>\n",
              "      <td>...</td>\n",
              "      <td>...</td>\n",
              "      <td>...</td>\n",
              "    </tr>\n",
              "    <tr>\n",
              "      <th>346</th>\n",
              "      <td>347</td>\n",
              "      <td>1</td>\n",
              "      <td>0</td>\n",
              "      <td>0.83508</td>\n",
              "      <td>0.08298</td>\n",
              "      <td>0.73739</td>\n",
              "      <td>-0.14706</td>\n",
              "      <td>0.84349</td>\n",
              "      <td>-0.05567</td>\n",
              "      <td>0.90441</td>\n",
              "      <td>...</td>\n",
              "      <td>-0.04202</td>\n",
              "      <td>0.83479</td>\n",
              "      <td>0.00123</td>\n",
              "      <td>1.00000</td>\n",
              "      <td>0.12815</td>\n",
              "      <td>0.86660</td>\n",
              "      <td>-0.10714</td>\n",
              "      <td>0.90546</td>\n",
              "      <td>-0.04307</td>\n",
              "      <td>good</td>\n",
              "    </tr>\n",
              "    <tr>\n",
              "      <th>347</th>\n",
              "      <td>348</td>\n",
              "      <td>1</td>\n",
              "      <td>0</td>\n",
              "      <td>0.95113</td>\n",
              "      <td>0.00419</td>\n",
              "      <td>0.95183</td>\n",
              "      <td>-0.02723</td>\n",
              "      <td>0.93438</td>\n",
              "      <td>-0.01920</td>\n",
              "      <td>0.94590</td>\n",
              "      <td>...</td>\n",
              "      <td>0.01361</td>\n",
              "      <td>0.93522</td>\n",
              "      <td>0.04925</td>\n",
              "      <td>0.93159</td>\n",
              "      <td>0.08168</td>\n",
              "      <td>0.94066</td>\n",
              "      <td>-0.00035</td>\n",
              "      <td>0.91483</td>\n",
              "      <td>0.04712</td>\n",
              "      <td>good</td>\n",
              "    </tr>\n",
              "    <tr>\n",
              "      <th>348</th>\n",
              "      <td>349</td>\n",
              "      <td>1</td>\n",
              "      <td>0</td>\n",
              "      <td>0.94701</td>\n",
              "      <td>-0.00034</td>\n",
              "      <td>0.93207</td>\n",
              "      <td>-0.03227</td>\n",
              "      <td>0.95177</td>\n",
              "      <td>-0.03431</td>\n",
              "      <td>0.95584</td>\n",
              "      <td>...</td>\n",
              "      <td>0.03193</td>\n",
              "      <td>0.92489</td>\n",
              "      <td>0.02542</td>\n",
              "      <td>0.92120</td>\n",
              "      <td>0.02242</td>\n",
              "      <td>0.92459</td>\n",
              "      <td>0.00442</td>\n",
              "      <td>0.92697</td>\n",
              "      <td>-0.00577</td>\n",
              "      <td>good</td>\n",
              "    </tr>\n",
              "    <tr>\n",
              "      <th>349</th>\n",
              "      <td>350</td>\n",
              "      <td>1</td>\n",
              "      <td>0</td>\n",
              "      <td>0.90608</td>\n",
              "      <td>-0.01657</td>\n",
              "      <td>0.98122</td>\n",
              "      <td>-0.01989</td>\n",
              "      <td>0.95691</td>\n",
              "      <td>-0.03646</td>\n",
              "      <td>0.85746</td>\n",
              "      <td>...</td>\n",
              "      <td>-0.02099</td>\n",
              "      <td>0.89147</td>\n",
              "      <td>-0.07760</td>\n",
              "      <td>0.82983</td>\n",
              "      <td>-0.17238</td>\n",
              "      <td>0.96022</td>\n",
              "      <td>-0.03757</td>\n",
              "      <td>0.87403</td>\n",
              "      <td>-0.16243</td>\n",
              "      <td>good</td>\n",
              "    </tr>\n",
              "    <tr>\n",
              "      <th>350</th>\n",
              "      <td>351</td>\n",
              "      <td>1</td>\n",
              "      <td>0</td>\n",
              "      <td>0.84710</td>\n",
              "      <td>0.13533</td>\n",
              "      <td>0.73638</td>\n",
              "      <td>-0.06151</td>\n",
              "      <td>0.87873</td>\n",
              "      <td>0.08260</td>\n",
              "      <td>0.88928</td>\n",
              "      <td>...</td>\n",
              "      <td>-0.15114</td>\n",
              "      <td>0.81147</td>\n",
              "      <td>-0.04822</td>\n",
              "      <td>0.78207</td>\n",
              "      <td>-0.00703</td>\n",
              "      <td>0.75747</td>\n",
              "      <td>-0.06678</td>\n",
              "      <td>0.85764</td>\n",
              "      <td>-0.06151</td>\n",
              "      <td>good</td>\n",
              "    </tr>\n",
              "  </tbody>\n",
              "</table>\n",
              "<p>351 rows × 36 columns</p>\n",
              "</div>\n",
              "      <button class=\"colab-df-convert\" onclick=\"convertToInteractive('df-6656432e-a208-4028-b131-5e7461cefe58')\"\n",
              "              title=\"Convert this dataframe to an interactive table.\"\n",
              "              style=\"display:none;\">\n",
              "        \n",
              "  <svg xmlns=\"http://www.w3.org/2000/svg\" height=\"24px\"viewBox=\"0 0 24 24\"\n",
              "       width=\"24px\">\n",
              "    <path d=\"M0 0h24v24H0V0z\" fill=\"none\"/>\n",
              "    <path d=\"M18.56 5.44l.94 2.06.94-2.06 2.06-.94-2.06-.94-.94-2.06-.94 2.06-2.06.94zm-11 1L8.5 8.5l.94-2.06 2.06-.94-2.06-.94L8.5 2.5l-.94 2.06-2.06.94zm10 10l.94 2.06.94-2.06 2.06-.94-2.06-.94-.94-2.06-.94 2.06-2.06.94z\"/><path d=\"M17.41 7.96l-1.37-1.37c-.4-.4-.92-.59-1.43-.59-.52 0-1.04.2-1.43.59L10.3 9.45l-7.72 7.72c-.78.78-.78 2.05 0 2.83L4 21.41c.39.39.9.59 1.41.59.51 0 1.02-.2 1.41-.59l7.78-7.78 2.81-2.81c.8-.78.8-2.07 0-2.86zM5.41 20L4 18.59l7.72-7.72 1.47 1.35L5.41 20z\"/>\n",
              "  </svg>\n",
              "      </button>\n",
              "      \n",
              "  <style>\n",
              "    .colab-df-container {\n",
              "      display:flex;\n",
              "      flex-wrap:wrap;\n",
              "      gap: 12px;\n",
              "    }\n",
              "\n",
              "    .colab-df-convert {\n",
              "      background-color: #E8F0FE;\n",
              "      border: none;\n",
              "      border-radius: 50%;\n",
              "      cursor: pointer;\n",
              "      display: none;\n",
              "      fill: #1967D2;\n",
              "      height: 32px;\n",
              "      padding: 0 0 0 0;\n",
              "      width: 32px;\n",
              "    }\n",
              "\n",
              "    .colab-df-convert:hover {\n",
              "      background-color: #E2EBFA;\n",
              "      box-shadow: 0px 1px 2px rgba(60, 64, 67, 0.3), 0px 1px 3px 1px rgba(60, 64, 67, 0.15);\n",
              "      fill: #174EA6;\n",
              "    }\n",
              "\n",
              "    [theme=dark] .colab-df-convert {\n",
              "      background-color: #3B4455;\n",
              "      fill: #D2E3FC;\n",
              "    }\n",
              "\n",
              "    [theme=dark] .colab-df-convert:hover {\n",
              "      background-color: #434B5C;\n",
              "      box-shadow: 0px 1px 3px 1px rgba(0, 0, 0, 0.15);\n",
              "      filter: drop-shadow(0px 1px 2px rgba(0, 0, 0, 0.3));\n",
              "      fill: #FFFFFF;\n",
              "    }\n",
              "  </style>\n",
              "\n",
              "      <script>\n",
              "        const buttonEl =\n",
              "          document.querySelector('#df-6656432e-a208-4028-b131-5e7461cefe58 button.colab-df-convert');\n",
              "        buttonEl.style.display =\n",
              "          google.colab.kernel.accessAllowed ? 'block' : 'none';\n",
              "\n",
              "        async function convertToInteractive(key) {\n",
              "          const element = document.querySelector('#df-6656432e-a208-4028-b131-5e7461cefe58');\n",
              "          const dataTable =\n",
              "            await google.colab.kernel.invokeFunction('convertToInteractive',\n",
              "                                                     [key], {});\n",
              "          if (!dataTable) return;\n",
              "\n",
              "          const docLinkHtml = 'Like what you see? Visit the ' +\n",
              "            '<a target=\"_blank\" href=https://colab.research.google.com/notebooks/data_table.ipynb>data table notebook</a>'\n",
              "            + ' to learn more about interactive tables.';\n",
              "          element.innerHTML = '';\n",
              "          dataTable['output_type'] = 'display_data';\n",
              "          await google.colab.output.renderOutput(dataTable, element);\n",
              "          const docLink = document.createElement('div');\n",
              "          docLink.innerHTML = docLinkHtml;\n",
              "          element.appendChild(docLink);\n",
              "        }\n",
              "      </script>\n",
              "    </div>\n",
              "  </div>\n",
              "  "
            ]
          },
          "metadata": {},
          "execution_count": 110
        }
      ]
    },
    {
      "cell_type": "code",
      "source": [
        "#Convertir los valores en un array\n",
        "dataset = df.values\n",
        "dataset"
      ],
      "metadata": {
        "colab": {
          "base_uri": "https://localhost:8080/"
        },
        "id": "saHpVGuXDPqF",
        "outputId": "ae8619f3-bec8-474e-e560-ec158ae615db"
      },
      "execution_count": null,
      "outputs": [
        {
          "output_type": "execute_result",
          "data": {
            "text/plain": [
              "array([[1, 1, 0, ..., 0.18641, -0.453, 'good'],\n",
              "       [2, 1, 0, ..., -0.13738, -0.02447, 'bad'],\n",
              "       [3, 1, 0, ..., 0.56045, -0.38238, 'good'],\n",
              "       ...,\n",
              "       [349, 1, 0, ..., 0.92697, -0.00577, 'good'],\n",
              "       [350, 1, 0, ..., 0.87403, -0.16243, 'good'],\n",
              "       [351, 1, 0, ..., 0.85764, -0.06151, 'good']], dtype=object)"
            ]
          },
          "metadata": {},
          "execution_count": 111
        }
      ]
    },
    {
      "cell_type": "code",
      "source": [
        "#Separar entre input y output\n",
        "X = dataset[:, 1:35] \n",
        "X"
      ],
      "metadata": {
        "colab": {
          "base_uri": "https://localhost:8080/"
        },
        "id": "8D0_xEpnDbty",
        "outputId": "3c7b3dd3-b920-4930-d86c-8822584cf226"
      },
      "execution_count": null,
      "outputs": [
        {
          "output_type": "execute_result",
          "data": {
            "text/plain": [
              "array([[1, 0, 0.99539, ..., -0.54487, 0.18641, -0.453],\n",
              "       [1, 0, 1.0, ..., -0.06288, -0.13738, -0.02447],\n",
              "       [1, 0, 1.0, ..., -0.2418, 0.56045, -0.38238],\n",
              "       ...,\n",
              "       [1, 0, 0.94701, ..., 0.00442, 0.92697, -0.00577],\n",
              "       [1, 0, 0.90608, ..., -0.03757, 0.87403, -0.16243],\n",
              "       [1, 0, 0.8471, ..., -0.06678, 0.85764, -0.06151]], dtype=object)"
            ]
          },
          "metadata": {},
          "execution_count": 112
        }
      ]
    },
    {
      "cell_type": "code",
      "source": [
        "Y = dataset[:, 35]\n",
        "\n",
        "#Transformar la calidad buena a 1, la calidad mala a 0.\n",
        "\n",
        "from sklearn.preprocessing import LabelEncoder \n",
        "\n",
        "LE = LabelEncoder()\n",
        "Y = LE.fit_transform(Y)\n",
        "\n",
        "print(Y)"
      ],
      "metadata": {
        "colab": {
          "base_uri": "https://localhost:8080/"
        },
        "id": "wU2yIItUDxtv",
        "outputId": "38e48636-9b5b-4152-89f2-ca62d8a1d1c3"
      },
      "execution_count": null,
      "outputs": [
        {
          "output_type": "stream",
          "name": "stdout",
          "text": [
            "[1 0 1 0 1 0 1 0 1 0 1 0 1 0 1 0 1 0 1 0 1 0 1 0 1 0 1 0 1 0 1 0 1 0 1 0 1\n",
            " 0 1 0 1 0 1 0 1 0 1 0 1 0 1 0 1 0 1 0 1 0 1 0 1 0 1 0 1 0 1 0 1 0 1 0 1 0\n",
            " 1 0 1 0 1 0 1 0 1 0 1 0 1 0 1 0 1 0 1 0 1 0 1 1 0 1 0 1 0 1 0 1 0 1 0 1 0\n",
            " 1 0 1 0 1 0 1 0 1 0 1 0 1 0 1 0 1 0 1 0 1 0 1 0 1 0 1 0 1 0 1 0 1 0 1 0 1\n",
            " 0 1 0 1 0 1 0 1 0 1 0 1 0 1 0 1 0 1 0 1 0 1 0 1 0 1 0 1 0 1 0 1 0 1 0 1 0\n",
            " 1 0 1 0 1 0 1 0 1 0 1 0 1 0 1 0 1 0 1 0 1 0 1 0 1 0 1 0 1 0 1 0 1 0 1 0 1\n",
            " 0 1 0 1 0 1 0 1 0 1 0 1 0 1 0 1 0 1 0 1 0 1 0 1 0 1 0 1 0 1 0 1 1 1 1 1 1\n",
            " 1 1 1 1 1 1 1 1 1 1 1 1 1 1 1 1 1 1 1 1 1 1 1 1 1 1 1 1 1 1 1 1 1 1 1 1 1\n",
            " 1 1 1 1 1 1 1 1 1 1 1 1 1 1 1 1 1 1 1 1 1 1 1 1 1 1 1 1 1 1 1 1 1 1 1 1 1\n",
            " 1 1 1 1 1 1 1 1 1 1 1 1 1 1 1 1 1 1]\n"
          ]
        }
      ]
    },
    {
      "cell_type": "code",
      "source": [
        "#Escalar los datos entre 0 y 1\n",
        "min_max_scaler = preprocessing.MinMaxScaler()\n",
        "X_scale = min_max_scaler.fit_transform(X)\n",
        "X_scale"
      ],
      "metadata": {
        "colab": {
          "base_uri": "https://localhost:8080/"
        },
        "id": "_VBOxnYzEN__",
        "outputId": "72e48923-8de5-4a52-f0bc-c79a2ad7e8ce"
      },
      "execution_count": null,
      "outputs": [
        {
          "output_type": "execute_result",
          "data": {
            "text/plain": [
              "array([[1.      , 0.      , 0.997695, ..., 0.227565, 0.593205, 0.2735  ],\n",
              "       [1.      , 0.      , 1.      , ..., 0.46856 , 0.43131 , 0.487765],\n",
              "       [1.      , 0.      , 1.      , ..., 0.3791  , 0.780225, 0.30881 ],\n",
              "       ...,\n",
              "       [1.      , 0.      , 0.973505, ..., 0.50221 , 0.963485, 0.497115],\n",
              "       [1.      , 0.      , 0.95304 , ..., 0.481215, 0.937015, 0.418785],\n",
              "       [1.      , 0.      , 0.92355 , ..., 0.46661 , 0.92882 , 0.469245]])"
            ]
          },
          "metadata": {},
          "execution_count": 114
        }
      ]
    },
    {
      "cell_type": "code",
      "source": [
        "#Separar los datos entre entrenamiento, validación y test\n",
        "X_train, X_val_and_test, Y_train, Y_val_and_test = train_test_split(X_scale, Y, test_size=0.2)\n",
        "X_val, X_test, Y_val, Y_test = train_test_split(X_val_and_test, Y_val_and_test, test_size=0.5)\n",
        "\n",
        "\n",
        "print(X_train.shape, X_val.shape, X_test.shape, Y_train.shape, Y_val.shape, Y_test.shape)"
      ],
      "metadata": {
        "colab": {
          "base_uri": "https://localhost:8080/"
        },
        "id": "sMHNN05REdPD",
        "outputId": "ff90fefa-f4ca-489a-a970-2cc8675b9d68"
      },
      "execution_count": null,
      "outputs": [
        {
          "output_type": "stream",
          "name": "stdout",
          "text": [
            "(280, 34) (35, 34) (36, 34) (280,) (35,) (36,)\n"
          ]
        }
      ]
    },
    {
      "cell_type": "code",
      "source": [
        "\n",
        "from keras import regularizers #En caso de que se usen regularizadores (no lo hice en este caso)\n",
        "\n",
        "#Modelo de 3 capas\n",
        "model = Sequential([\n",
        "    Dense(34, activation='relu', input_shape=(34,)),\n",
        "    \n",
        "    Dense(64, activation='relu'),\n",
        "    \n",
        "    Dense(1, activation='softmax'),\n",
        "])"
      ],
      "metadata": {
        "id": "bxb4-EN0E8VK",
        "colab": {
          "base_uri": "https://localhost:8080/",
          "height": 235
        },
        "outputId": "742d5e9d-c4a9-437d-b103-b4729c6923e6"
      },
      "execution_count": null,
      "outputs": [
        {
          "output_type": "error",
          "ename": "NameError",
          "evalue": "ignored",
          "traceback": [
            "\u001b[0;31m---------------------------------------------------------------------------\u001b[0m",
            "\u001b[0;31mNameError\u001b[0m                                 Traceback (most recent call last)",
            "\u001b[0;32m<ipython-input-1-895aa78cd21f>\u001b[0m in \u001b[0;36m<module>\u001b[0;34m()\u001b[0m\n\u001b[1;32m      3\u001b[0m \u001b[0;34m\u001b[0m\u001b[0m\n\u001b[1;32m      4\u001b[0m \u001b[0;31m#Modelo de 3 capas\u001b[0m\u001b[0;34m\u001b[0m\u001b[0;34m\u001b[0m\u001b[0;34m\u001b[0m\u001b[0m\n\u001b[0;32m----> 5\u001b[0;31m model = Sequential([\n\u001b[0m\u001b[1;32m      6\u001b[0m     \u001b[0mDense\u001b[0m\u001b[0;34m(\u001b[0m\u001b[0;36m34\u001b[0m\u001b[0;34m,\u001b[0m \u001b[0mactivation\u001b[0m\u001b[0;34m=\u001b[0m\u001b[0;34m'relu'\u001b[0m\u001b[0;34m,\u001b[0m \u001b[0minput_shape\u001b[0m\u001b[0;34m=\u001b[0m\u001b[0;34m(\u001b[0m\u001b[0;36m34\u001b[0m\u001b[0;34m,\u001b[0m\u001b[0;34m)\u001b[0m\u001b[0;34m)\u001b[0m\u001b[0;34m,\u001b[0m\u001b[0;34m\u001b[0m\u001b[0;34m\u001b[0m\u001b[0m\n\u001b[1;32m      7\u001b[0m \u001b[0;34m\u001b[0m\u001b[0m\n",
            "\u001b[0;31mNameError\u001b[0m: name 'Sequential' is not defined"
          ]
        }
      ]
    },
    {
      "cell_type": "code",
      "source": [
        "#opt = Adam(learning_rate=0.01)\n",
        "\n",
        "#Compilación de modelo\n",
        "model.compile(optimizer='sgd',\n",
        "              loss='binary_crossentropy',\n",
        "              metrics=['accuracy'])"
      ],
      "metadata": {
        "id": "_eYBCz2EFO3I"
      },
      "execution_count": null,
      "outputs": []
    },
    {
      "cell_type": "code",
      "source": [
        "#Entrenamiento del modelo\n",
        "hist = model.fit(X_train, Y_train,\n",
        "          batch_size=32, epochs=100,\n",
        "          validation_data=(X_val, Y_val))"
      ],
      "metadata": {
        "colab": {
          "base_uri": "https://localhost:8080/"
        },
        "id": "hQtPje8PFQk6",
        "outputId": "966cdfe0-2d99-4208-fc95-8b5418ff6614"
      },
      "execution_count": null,
      "outputs": [
        {
          "output_type": "stream",
          "name": "stdout",
          "text": [
            "Epoch 1/100\n",
            "9/9 [==============================] - 1s 21ms/step - loss: 0.6357 - accuracy: 0.7143 - val_loss: 0.6327 - val_accuracy: 0.6286\n",
            "Epoch 2/100\n",
            "9/9 [==============================] - 0s 5ms/step - loss: 0.6205 - accuracy: 0.6786 - val_loss: 0.6287 - val_accuracy: 0.5714\n",
            "Epoch 3/100\n",
            "9/9 [==============================] - 0s 5ms/step - loss: 0.6125 - accuracy: 0.6679 - val_loss: 0.6258 - val_accuracy: 0.5714\n",
            "Epoch 4/100\n",
            "9/9 [==============================] - 0s 5ms/step - loss: 0.6085 - accuracy: 0.6714 - val_loss: 0.6250 - val_accuracy: 0.5714\n",
            "Epoch 5/100\n",
            "9/9 [==============================] - 0s 6ms/step - loss: 0.6045 - accuracy: 0.6679 - val_loss: 0.6232 - val_accuracy: 0.5714\n",
            "Epoch 6/100\n",
            "9/9 [==============================] - 0s 5ms/step - loss: 0.6022 - accuracy: 0.6679 - val_loss: 0.6210 - val_accuracy: 0.5714\n",
            "Epoch 7/100\n",
            "9/9 [==============================] - 0s 5ms/step - loss: 0.6004 - accuracy: 0.6714 - val_loss: 0.6194 - val_accuracy: 0.5714\n",
            "Epoch 8/100\n",
            "9/9 [==============================] - 0s 5ms/step - loss: 0.5983 - accuracy: 0.6679 - val_loss: 0.6178 - val_accuracy: 0.5714\n",
            "Epoch 9/100\n",
            "9/9 [==============================] - 0s 5ms/step - loss: 0.5955 - accuracy: 0.6714 - val_loss: 0.6164 - val_accuracy: 0.5714\n",
            "Epoch 10/100\n",
            "9/9 [==============================] - 0s 5ms/step - loss: 0.5938 - accuracy: 0.6679 - val_loss: 0.6141 - val_accuracy: 0.5714\n",
            "Epoch 11/100\n",
            "9/9 [==============================] - 0s 5ms/step - loss: 0.5919 - accuracy: 0.6714 - val_loss: 0.6119 - val_accuracy: 0.5714\n",
            "Epoch 12/100\n",
            "9/9 [==============================] - 0s 5ms/step - loss: 0.5896 - accuracy: 0.6750 - val_loss: 0.6099 - val_accuracy: 0.5714\n",
            "Epoch 13/100\n",
            "9/9 [==============================] - 0s 5ms/step - loss: 0.5876 - accuracy: 0.6750 - val_loss: 0.6081 - val_accuracy: 0.5714\n",
            "Epoch 14/100\n",
            "9/9 [==============================] - 0s 5ms/step - loss: 0.5855 - accuracy: 0.6750 - val_loss: 0.6061 - val_accuracy: 0.5714\n",
            "Epoch 15/100\n",
            "9/9 [==============================] - 0s 5ms/step - loss: 0.5839 - accuracy: 0.6786 - val_loss: 0.6047 - val_accuracy: 0.5714\n",
            "Epoch 16/100\n",
            "9/9 [==============================] - 0s 5ms/step - loss: 0.5814 - accuracy: 0.6821 - val_loss: 0.6026 - val_accuracy: 0.5714\n",
            "Epoch 17/100\n",
            "9/9 [==============================] - 0s 5ms/step - loss: 0.5792 - accuracy: 0.6821 - val_loss: 0.6004 - val_accuracy: 0.5714\n",
            "Epoch 18/100\n",
            "9/9 [==============================] - 0s 5ms/step - loss: 0.5778 - accuracy: 0.6857 - val_loss: 0.5979 - val_accuracy: 0.5714\n",
            "Epoch 19/100\n",
            "9/9 [==============================] - 0s 5ms/step - loss: 0.5755 - accuracy: 0.6857 - val_loss: 0.5959 - val_accuracy: 0.5714\n",
            "Epoch 20/100\n",
            "9/9 [==============================] - 0s 5ms/step - loss: 0.5739 - accuracy: 0.6929 - val_loss: 0.5950 - val_accuracy: 0.5714\n",
            "Epoch 21/100\n",
            "9/9 [==============================] - 0s 5ms/step - loss: 0.5723 - accuracy: 0.6893 - val_loss: 0.5921 - val_accuracy: 0.6000\n",
            "Epoch 22/100\n",
            "9/9 [==============================] - 0s 5ms/step - loss: 0.5700 - accuracy: 0.6893 - val_loss: 0.5907 - val_accuracy: 0.6000\n",
            "Epoch 23/100\n",
            "9/9 [==============================] - 0s 4ms/step - loss: 0.5679 - accuracy: 0.6964 - val_loss: 0.5886 - val_accuracy: 0.6000\n",
            "Epoch 24/100\n",
            "9/9 [==============================] - 0s 5ms/step - loss: 0.5664 - accuracy: 0.6964 - val_loss: 0.5872 - val_accuracy: 0.6000\n",
            "Epoch 25/100\n",
            "9/9 [==============================] - 0s 4ms/step - loss: 0.5643 - accuracy: 0.6964 - val_loss: 0.5860 - val_accuracy: 0.6000\n",
            "Epoch 26/100\n",
            "9/9 [==============================] - 0s 4ms/step - loss: 0.5620 - accuracy: 0.6964 - val_loss: 0.5837 - val_accuracy: 0.6000\n",
            "Epoch 27/100\n",
            "9/9 [==============================] - 0s 5ms/step - loss: 0.5605 - accuracy: 0.7036 - val_loss: 0.5821 - val_accuracy: 0.6000\n",
            "Epoch 28/100\n",
            "9/9 [==============================] - 0s 4ms/step - loss: 0.5582 - accuracy: 0.7071 - val_loss: 0.5807 - val_accuracy: 0.6000\n",
            "Epoch 29/100\n",
            "9/9 [==============================] - 0s 4ms/step - loss: 0.5565 - accuracy: 0.7071 - val_loss: 0.5794 - val_accuracy: 0.6000\n",
            "Epoch 30/100\n",
            "9/9 [==============================] - 0s 6ms/step - loss: 0.5550 - accuracy: 0.7107 - val_loss: 0.5779 - val_accuracy: 0.6000\n",
            "Epoch 31/100\n",
            "9/9 [==============================] - 0s 4ms/step - loss: 0.5530 - accuracy: 0.7071 - val_loss: 0.5763 - val_accuracy: 0.6000\n",
            "Epoch 32/100\n",
            "9/9 [==============================] - 0s 6ms/step - loss: 0.5509 - accuracy: 0.7107 - val_loss: 0.5730 - val_accuracy: 0.6000\n",
            "Epoch 33/100\n",
            "9/9 [==============================] - 0s 5ms/step - loss: 0.5490 - accuracy: 0.7179 - val_loss: 0.5720 - val_accuracy: 0.6000\n",
            "Epoch 34/100\n",
            "9/9 [==============================] - 0s 5ms/step - loss: 0.5475 - accuracy: 0.7179 - val_loss: 0.5688 - val_accuracy: 0.6286\n",
            "Epoch 35/100\n",
            "9/9 [==============================] - 0s 4ms/step - loss: 0.5454 - accuracy: 0.7250 - val_loss: 0.5672 - val_accuracy: 0.6286\n",
            "Epoch 36/100\n",
            "9/9 [==============================] - 0s 5ms/step - loss: 0.5431 - accuracy: 0.7214 - val_loss: 0.5633 - val_accuracy: 0.6571\n",
            "Epoch 37/100\n",
            "9/9 [==============================] - 0s 4ms/step - loss: 0.5410 - accuracy: 0.7250 - val_loss: 0.5614 - val_accuracy: 0.6857\n",
            "Epoch 38/100\n",
            "9/9 [==============================] - 0s 5ms/step - loss: 0.5390 - accuracy: 0.7214 - val_loss: 0.5592 - val_accuracy: 0.6857\n",
            "Epoch 39/100\n",
            "9/9 [==============================] - 0s 6ms/step - loss: 0.5375 - accuracy: 0.7321 - val_loss: 0.5584 - val_accuracy: 0.6857\n",
            "Epoch 40/100\n",
            "9/9 [==============================] - 0s 5ms/step - loss: 0.5349 - accuracy: 0.7250 - val_loss: 0.5566 - val_accuracy: 0.6857\n",
            "Epoch 41/100\n",
            "9/9 [==============================] - 0s 5ms/step - loss: 0.5330 - accuracy: 0.7250 - val_loss: 0.5543 - val_accuracy: 0.6857\n",
            "Epoch 42/100\n",
            "9/9 [==============================] - 0s 5ms/step - loss: 0.5308 - accuracy: 0.7357 - val_loss: 0.5538 - val_accuracy: 0.6857\n",
            "Epoch 43/100\n",
            "9/9 [==============================] - 0s 5ms/step - loss: 0.5293 - accuracy: 0.7321 - val_loss: 0.5514 - val_accuracy: 0.6857\n",
            "Epoch 44/100\n",
            "9/9 [==============================] - 0s 5ms/step - loss: 0.5267 - accuracy: 0.7286 - val_loss: 0.5475 - val_accuracy: 0.7143\n",
            "Epoch 45/100\n",
            "9/9 [==============================] - 0s 5ms/step - loss: 0.5245 - accuracy: 0.7393 - val_loss: 0.5461 - val_accuracy: 0.7143\n",
            "Epoch 46/100\n",
            "9/9 [==============================] - 0s 5ms/step - loss: 0.5223 - accuracy: 0.7393 - val_loss: 0.5437 - val_accuracy: 0.7143\n",
            "Epoch 47/100\n",
            "9/9 [==============================] - 0s 6ms/step - loss: 0.5202 - accuracy: 0.7429 - val_loss: 0.5423 - val_accuracy: 0.7143\n",
            "Epoch 48/100\n",
            "9/9 [==============================] - 0s 5ms/step - loss: 0.5191 - accuracy: 0.7357 - val_loss: 0.5408 - val_accuracy: 0.7143\n",
            "Epoch 49/100\n",
            "9/9 [==============================] - 0s 6ms/step - loss: 0.5162 - accuracy: 0.7429 - val_loss: 0.5383 - val_accuracy: 0.7143\n",
            "Epoch 50/100\n",
            "9/9 [==============================] - 0s 5ms/step - loss: 0.5142 - accuracy: 0.7429 - val_loss: 0.5356 - val_accuracy: 0.7143\n",
            "Epoch 51/100\n",
            "9/9 [==============================] - 0s 6ms/step - loss: 0.5120 - accuracy: 0.7429 - val_loss: 0.5339 - val_accuracy: 0.7143\n",
            "Epoch 52/100\n",
            "9/9 [==============================] - 0s 4ms/step - loss: 0.5101 - accuracy: 0.7500 - val_loss: 0.5327 - val_accuracy: 0.7143\n",
            "Epoch 53/100\n",
            "9/9 [==============================] - 0s 5ms/step - loss: 0.5075 - accuracy: 0.7429 - val_loss: 0.5281 - val_accuracy: 0.7143\n",
            "Epoch 54/100\n",
            "9/9 [==============================] - 0s 4ms/step - loss: 0.5055 - accuracy: 0.7643 - val_loss: 0.5268 - val_accuracy: 0.7143\n",
            "Epoch 55/100\n",
            "9/9 [==============================] - 0s 5ms/step - loss: 0.5036 - accuracy: 0.7643 - val_loss: 0.5247 - val_accuracy: 0.7143\n",
            "Epoch 56/100\n",
            "9/9 [==============================] - 0s 5ms/step - loss: 0.5017 - accuracy: 0.7643 - val_loss: 0.5227 - val_accuracy: 0.7143\n",
            "Epoch 57/100\n",
            "9/9 [==============================] - 0s 5ms/step - loss: 0.4987 - accuracy: 0.7679 - val_loss: 0.5208 - val_accuracy: 0.7143\n",
            "Epoch 58/100\n",
            "9/9 [==============================] - 0s 4ms/step - loss: 0.4972 - accuracy: 0.7714 - val_loss: 0.5178 - val_accuracy: 0.7143\n",
            "Epoch 59/100\n",
            "9/9 [==============================] - 0s 5ms/step - loss: 0.4942 - accuracy: 0.7643 - val_loss: 0.5152 - val_accuracy: 0.7143\n",
            "Epoch 60/100\n",
            "9/9 [==============================] - 0s 4ms/step - loss: 0.4920 - accuracy: 0.7679 - val_loss: 0.5122 - val_accuracy: 0.7143\n",
            "Epoch 61/100\n",
            "9/9 [==============================] - 0s 5ms/step - loss: 0.4906 - accuracy: 0.7714 - val_loss: 0.5078 - val_accuracy: 0.7143\n",
            "Epoch 62/100\n",
            "9/9 [==============================] - 0s 5ms/step - loss: 0.4880 - accuracy: 0.7821 - val_loss: 0.5077 - val_accuracy: 0.7143\n",
            "Epoch 63/100\n",
            "9/9 [==============================] - 0s 5ms/step - loss: 0.4852 - accuracy: 0.7857 - val_loss: 0.5078 - val_accuracy: 0.7143\n",
            "Epoch 64/100\n",
            "9/9 [==============================] - 0s 5ms/step - loss: 0.4841 - accuracy: 0.7786 - val_loss: 0.5048 - val_accuracy: 0.7143\n",
            "Epoch 65/100\n",
            "9/9 [==============================] - 0s 5ms/step - loss: 0.4809 - accuracy: 0.7821 - val_loss: 0.5020 - val_accuracy: 0.7143\n",
            "Epoch 66/100\n",
            "9/9 [==============================] - 0s 4ms/step - loss: 0.4784 - accuracy: 0.7893 - val_loss: 0.5001 - val_accuracy: 0.7143\n",
            "Epoch 67/100\n",
            "9/9 [==============================] - 0s 6ms/step - loss: 0.4764 - accuracy: 0.7893 - val_loss: 0.4971 - val_accuracy: 0.7143\n",
            "Epoch 68/100\n",
            "9/9 [==============================] - 0s 6ms/step - loss: 0.4750 - accuracy: 0.7893 - val_loss: 0.4949 - val_accuracy: 0.7143\n",
            "Epoch 69/100\n",
            "9/9 [==============================] - 0s 6ms/step - loss: 0.4712 - accuracy: 0.7929 - val_loss: 0.4898 - val_accuracy: 0.7429\n",
            "Epoch 70/100\n",
            "9/9 [==============================] - 0s 6ms/step - loss: 0.4695 - accuracy: 0.7964 - val_loss: 0.4900 - val_accuracy: 0.7429\n",
            "Epoch 71/100\n",
            "9/9 [==============================] - 0s 5ms/step - loss: 0.4669 - accuracy: 0.8000 - val_loss: 0.4868 - val_accuracy: 0.7429\n",
            "Epoch 72/100\n",
            "9/9 [==============================] - 0s 4ms/step - loss: 0.4645 - accuracy: 0.7964 - val_loss: 0.4825 - val_accuracy: 0.7714\n",
            "Epoch 73/100\n",
            "9/9 [==============================] - 0s 5ms/step - loss: 0.4631 - accuracy: 0.8107 - val_loss: 0.4826 - val_accuracy: 0.7429\n",
            "Epoch 74/100\n",
            "9/9 [==============================] - 0s 5ms/step - loss: 0.4603 - accuracy: 0.8036 - val_loss: 0.4799 - val_accuracy: 0.7429\n",
            "Epoch 75/100\n",
            "9/9 [==============================] - 0s 5ms/step - loss: 0.4582 - accuracy: 0.8071 - val_loss: 0.4791 - val_accuracy: 0.7429\n",
            "Epoch 76/100\n",
            "9/9 [==============================] - 0s 5ms/step - loss: 0.4560 - accuracy: 0.8000 - val_loss: 0.4738 - val_accuracy: 0.7714\n",
            "Epoch 77/100\n",
            "9/9 [==============================] - 0s 5ms/step - loss: 0.4542 - accuracy: 0.8107 - val_loss: 0.4745 - val_accuracy: 0.7429\n",
            "Epoch 78/100\n",
            "9/9 [==============================] - 0s 4ms/step - loss: 0.4526 - accuracy: 0.8036 - val_loss: 0.4713 - val_accuracy: 0.7714\n",
            "Epoch 79/100\n",
            "9/9 [==============================] - 0s 4ms/step - loss: 0.4501 - accuracy: 0.8000 - val_loss: 0.4676 - val_accuracy: 0.7714\n",
            "Epoch 80/100\n",
            "9/9 [==============================] - 0s 4ms/step - loss: 0.4478 - accuracy: 0.8071 - val_loss: 0.4647 - val_accuracy: 0.7714\n",
            "Epoch 81/100\n",
            "9/9 [==============================] - 0s 5ms/step - loss: 0.4449 - accuracy: 0.8286 - val_loss: 0.4659 - val_accuracy: 0.7714\n",
            "Epoch 82/100\n",
            "9/9 [==============================] - 0s 4ms/step - loss: 0.4436 - accuracy: 0.8107 - val_loss: 0.4594 - val_accuracy: 0.7714\n",
            "Epoch 83/100\n",
            "9/9 [==============================] - 0s 5ms/step - loss: 0.4417 - accuracy: 0.8214 - val_loss: 0.4569 - val_accuracy: 0.7714\n",
            "Epoch 84/100\n",
            "9/9 [==============================] - 0s 5ms/step - loss: 0.4390 - accuracy: 0.8286 - val_loss: 0.4566 - val_accuracy: 0.7714\n",
            "Epoch 85/100\n",
            "9/9 [==============================] - 0s 5ms/step - loss: 0.4374 - accuracy: 0.8179 - val_loss: 0.4526 - val_accuracy: 0.7714\n",
            "Epoch 86/100\n",
            "9/9 [==============================] - 0s 5ms/step - loss: 0.4352 - accuracy: 0.8250 - val_loss: 0.4506 - val_accuracy: 0.7714\n",
            "Epoch 87/100\n",
            "9/9 [==============================] - 0s 4ms/step - loss: 0.4323 - accuracy: 0.8250 - val_loss: 0.4471 - val_accuracy: 0.7714\n",
            "Epoch 88/100\n",
            "9/9 [==============================] - 0s 4ms/step - loss: 0.4311 - accuracy: 0.8286 - val_loss: 0.4447 - val_accuracy: 0.7714\n",
            "Epoch 89/100\n",
            "9/9 [==============================] - 0s 4ms/step - loss: 0.4278 - accuracy: 0.8321 - val_loss: 0.4419 - val_accuracy: 0.7714\n",
            "Epoch 90/100\n",
            "9/9 [==============================] - 0s 6ms/step - loss: 0.4261 - accuracy: 0.8357 - val_loss: 0.4397 - val_accuracy: 0.7714\n",
            "Epoch 91/100\n",
            "9/9 [==============================] - 0s 5ms/step - loss: 0.4230 - accuracy: 0.8357 - val_loss: 0.4400 - val_accuracy: 0.7714\n",
            "Epoch 92/100\n",
            "9/9 [==============================] - 0s 5ms/step - loss: 0.4208 - accuracy: 0.8357 - val_loss: 0.4364 - val_accuracy: 0.7714\n",
            "Epoch 93/100\n",
            "9/9 [==============================] - 0s 5ms/step - loss: 0.4194 - accuracy: 0.8393 - val_loss: 0.4356 - val_accuracy: 0.7714\n",
            "Epoch 94/100\n",
            "9/9 [==============================] - 0s 4ms/step - loss: 0.4168 - accuracy: 0.8321 - val_loss: 0.4310 - val_accuracy: 0.7714\n",
            "Epoch 95/100\n",
            "9/9 [==============================] - 0s 6ms/step - loss: 0.4145 - accuracy: 0.8393 - val_loss: 0.4339 - val_accuracy: 0.7714\n",
            "Epoch 96/100\n",
            "9/9 [==============================] - 0s 5ms/step - loss: 0.4120 - accuracy: 0.8321 - val_loss: 0.4296 - val_accuracy: 0.7714\n",
            "Epoch 97/100\n",
            "9/9 [==============================] - 0s 5ms/step - loss: 0.4098 - accuracy: 0.8429 - val_loss: 0.4279 - val_accuracy: 0.7714\n",
            "Epoch 98/100\n",
            "9/9 [==============================] - 0s 4ms/step - loss: 0.4083 - accuracy: 0.8321 - val_loss: 0.4197 - val_accuracy: 0.8000\n",
            "Epoch 99/100\n",
            "9/9 [==============================] - 0s 5ms/step - loss: 0.4065 - accuracy: 0.8500 - val_loss: 0.4172 - val_accuracy: 0.8286\n",
            "Epoch 100/100\n",
            "9/9 [==============================] - 0s 4ms/step - loss: 0.4031 - accuracy: 0.8500 - val_loss: 0.4173 - val_accuracy: 0.7714\n"
          ]
        }
      ]
    },
    {
      "cell_type": "code",
      "source": [
        "#Evalución del modelo\n",
        "model.evaluate(X_test, Y_test)[1]"
      ],
      "metadata": {
        "colab": {
          "base_uri": "https://localhost:8080/"
        },
        "id": "XA_tB6oTJFPu",
        "outputId": "007a67d1-7a10-4be3-a426-8dff56f1ce55"
      },
      "execution_count": null,
      "outputs": [
        {
          "output_type": "stream",
          "name": "stdout",
          "text": [
            "2/2 [==============================] - 0s 6ms/step - loss: 0.4079 - accuracy: 0.8056\n"
          ]
        },
        {
          "output_type": "execute_result",
          "data": {
            "text/plain": [
              "0.8055555820465088"
            ]
          },
          "metadata": {},
          "execution_count": 125
        }
      ]
    },
    {
      "cell_type": "code",
      "source": [
        "#Predicción\n",
        "print(Y_test[4])\n",
        "l = model.predict(X_test)[4]\n",
        "\n",
        "if l[0] > 0.7:\n",
        "  print(\"Buena calidad\")\n"
      ],
      "metadata": {
        "colab": {
          "base_uri": "https://localhost:8080/"
        },
        "id": "RujXgoYh8PDL",
        "outputId": "b2395acf-e169-4b9d-d6d3-229ac6dcb04f"
      },
      "execution_count": null,
      "outputs": [
        {
          "output_type": "stream",
          "name": "stdout",
          "text": [
            "1\n",
            "Buena calidad\n"
          ]
        }
      ]
    },
    {
      "cell_type": "code",
      "source": [
        "#Gráfico de pérdida\n",
        "plt.plot(hist.history['loss'])\n",
        "plt.plot(hist.history['val_loss'])\n",
        "plt.title('Model loss')\n",
        "plt.ylabel('Loss')\n",
        "plt.xlabel('Epoch')\n",
        "plt.legend(['Train', 'Val'], loc='upper right')\n",
        "plt.show()"
      ],
      "metadata": {
        "colab": {
          "base_uri": "https://localhost:8080/",
          "height": 295
        },
        "id": "ufbn-tMZJaba",
        "outputId": "93638e5a-fcd2-4166-8e42-c8db605dcc80"
      },
      "execution_count": null,
      "outputs": [
        {
          "output_type": "display_data",
          "data": {
            "text/plain": [
              "<Figure size 432x288 with 1 Axes>"
            ],
            "image/png": "[encoded data removed]"
          },
          "metadata": {
            "needs_background": "light"
          }
        }
      ]
    },
    {
      "cell_type": "code",
      "source": [
        "#Gráfico de eficacia\n",
        "plt.plot(hist.history['accuracy'])\n",
        "plt.plot(hist.history['val_accuracy'])\n",
        "plt.title('Model accuracy')\n",
        "plt.ylabel('Accuracy')\n",
        "plt.xlabel('Epoch')\n",
        "plt.legend(['Train', 'Val'], loc='lower right')\n",
        "plt.show()"
      ],
      "metadata": {
        "colab": {
          "base_uri": "https://localhost:8080/",
          "height": 295
        },
        "id": "k9XysP-ko209",
        "outputId": "8826775c-688c-41c0-e874-ba42352bb90c"
      },
      "execution_count": null,
      "outputs": [
        {
          "output_type": "display_data",
          "data": {
            "text/plain": [
              "<Figure size 432x288 with 1 Axes>"
            ],
            "image/png": "[encoded data removed]"
          },
          "metadata": {
            "needs_background": "light"
          }
        }
      ]
    },
    {
      "cell_type": "code",
      "source": [
        "from keras import regularizers\n",
        "model_2 = Sequential([\n",
        "    Dense(128, activation='relu', kernel_regularizer=regularizers.l2(0.01), input_shape=(34,)),\n",
        "    Dropout(0.3),\n",
        "    Dense(128, activation='relu', kernel_regularizer=regularizers.l2(0.01)),\n",
        "    Dropout(0.3),\n",
        "    Dense(128, activation='relu', kernel_regularizer=regularizers.l2(0.01)),\n",
        "    Dropout(0.3),\n",
        "    Dense(128, activation='relu', kernel_regularizer=regularizers.l2(0.01)),\n",
        "    Dropout(0.3),\n",
        "    Dense(1, activation='sigmoid', kernel_regularizer=regularizers.l2(0.01)),\n",
        "])\n",
        "\n"
      ],
      "metadata": {
        "id": "kAWlFa7OLlbC"
      },
      "execution_count": null,
      "outputs": []
    },
    {
      "cell_type": "code",
      "source": [
        "model_2.compile(optimizer='adam',\n",
        "              loss='binary_crossentropy',\n",
        "              metrics=['accuracy'])\n",
        "              \n",
        "hist_3 = model_2.fit(X_train, Y_train,\n",
        "          batch_size=32, epochs=100,\n",
        "          validation_data=(X_val, Y_val))"
      ],
      "metadata": {
        "id": "bTS6bClXLqwT",
        "colab": {
          "base_uri": "https://localhost:8080/"
        },
        "outputId": "3f9f8f58-145c-4804-f519-a19cc2225e03"
      },
      "execution_count": null,
      "outputs": [
        {
          "output_type": "stream",
          "name": "stdout",
          "text": [
            "Epoch 1/100\n",
            "9/9 [==============================] - 2s 49ms/step - loss: 4.8070 - accuracy: 0.5964 - val_loss: 4.4718 - val_accuracy: 0.6286\n",
            "Epoch 2/100\n",
            "9/9 [==============================] - 0s 13ms/step - loss: 4.2583 - accuracy: 0.6429 - val_loss: 3.9735 - val_accuracy: 0.6286\n",
            "Epoch 3/100\n",
            "9/9 [==============================] - 0s 16ms/step - loss: 3.7706 - accuracy: 0.6429 - val_loss: 3.5177 - val_accuracy: 0.6286\n",
            "Epoch 4/100\n",
            "9/9 [==============================] - 0s 12ms/step - loss: 3.3201 - accuracy: 0.6429 - val_loss: 3.1189 - val_accuracy: 0.6286\n",
            "Epoch 5/100\n",
            "9/9 [==============================] - 0s 10ms/step - loss: 2.9445 - accuracy: 0.6429 - val_loss: 2.7838 - val_accuracy: 0.6286\n",
            "Epoch 6/100\n",
            "9/9 [==============================] - 0s 14ms/step - loss: 2.6269 - accuracy: 0.6429 - val_loss: 2.4725 - val_accuracy: 0.6286\n",
            "Epoch 7/100\n",
            "9/9 [==============================] - 0s 10ms/step - loss: 2.3351 - accuracy: 0.6429 - val_loss: 2.2133 - val_accuracy: 0.6286\n",
            "Epoch 8/100\n",
            "9/9 [==============================] - 0s 10ms/step - loss: 2.0787 - accuracy: 0.6571 - val_loss: 1.9941 - val_accuracy: 0.6286\n",
            "Epoch 9/100\n",
            "9/9 [==============================] - 0s 10ms/step - loss: 1.8723 - accuracy: 0.6893 - val_loss: 1.7937 - val_accuracy: 0.6286\n",
            "Epoch 10/100\n",
            "9/9 [==============================] - 0s 12ms/step - loss: 1.6896 - accuracy: 0.7036 - val_loss: 1.6263 - val_accuracy: 0.6286\n",
            "Epoch 11/100\n",
            "9/9 [==============================] - 0s 11ms/step - loss: 1.5239 - accuracy: 0.7429 - val_loss: 1.4903 - val_accuracy: 0.6286\n",
            "Epoch 12/100\n",
            "9/9 [==============================] - 0s 9ms/step - loss: 1.3724 - accuracy: 0.7964 - val_loss: 1.3508 - val_accuracy: 0.6857\n",
            "Epoch 13/100\n",
            "9/9 [==============================] - 0s 10ms/step - loss: 1.2530 - accuracy: 0.8000 - val_loss: 1.2283 - val_accuracy: 0.7143\n",
            "Epoch 14/100\n",
            "9/9 [==============================] - 0s 11ms/step - loss: 1.1405 - accuracy: 0.8357 - val_loss: 1.1327 - val_accuracy: 0.7429\n",
            "Epoch 15/100\n",
            "9/9 [==============================] - 0s 11ms/step - loss: 1.0377 - accuracy: 0.8464 - val_loss: 1.0561 - val_accuracy: 0.7429\n",
            "Epoch 16/100\n",
            "9/9 [==============================] - 0s 21ms/step - loss: 0.9840 - accuracy: 0.8643 - val_loss: 1.0287 - val_accuracy: 0.7143\n",
            "Epoch 17/100\n",
            "9/9 [==============================] - 0s 20ms/step - loss: 0.8963 - accuracy: 0.8679 - val_loss: 0.9338 - val_accuracy: 0.7714\n",
            "Epoch 18/100\n",
            "9/9 [==============================] - 0s 24ms/step - loss: 0.8172 - accuracy: 0.9036 - val_loss: 0.8985 - val_accuracy: 0.8000\n",
            "Epoch 19/100\n",
            "9/9 [==============================] - 0s 26ms/step - loss: 0.7902 - accuracy: 0.8786 - val_loss: 0.8137 - val_accuracy: 0.8857\n",
            "Epoch 20/100\n",
            "9/9 [==============================] - 0s 11ms/step - loss: 0.7663 - accuracy: 0.8857 - val_loss: 0.7658 - val_accuracy: 0.8857\n",
            "Epoch 21/100\n",
            "9/9 [==============================] - 0s 18ms/step - loss: 0.7654 - accuracy: 0.8536 - val_loss: 0.8026 - val_accuracy: 0.8286\n",
            "Epoch 22/100\n",
            "9/9 [==============================] - 0s 8ms/step - loss: 0.6844 - accuracy: 0.9143 - val_loss: 0.7217 - val_accuracy: 0.8857\n",
            "Epoch 23/100\n",
            "9/9 [==============================] - 0s 10ms/step - loss: 0.6797 - accuracy: 0.9000 - val_loss: 0.7009 - val_accuracy: 0.8571\n",
            "Epoch 24/100\n",
            "9/9 [==============================] - 0s 9ms/step - loss: 0.6408 - accuracy: 0.9036 - val_loss: 0.6496 - val_accuracy: 0.9143\n",
            "Epoch 25/100\n",
            "9/9 [==============================] - 0s 13ms/step - loss: 0.6227 - accuracy: 0.9179 - val_loss: 0.6439 - val_accuracy: 0.9143\n",
            "Epoch 26/100\n",
            "9/9 [==============================] - 0s 13ms/step - loss: 0.5852 - accuracy: 0.9286 - val_loss: 0.6158 - val_accuracy: 0.9143\n",
            "Epoch 27/100\n",
            "9/9 [==============================] - 0s 11ms/step - loss: 0.5762 - accuracy: 0.9357 - val_loss: 0.6879 - val_accuracy: 0.8286\n",
            "Epoch 28/100\n",
            "9/9 [==============================] - 0s 12ms/step - loss: 0.5770 - accuracy: 0.9107 - val_loss: 0.6928 - val_accuracy: 0.8571\n",
            "Epoch 29/100\n",
            "9/9 [==============================] - 0s 8ms/step - loss: 0.5765 - accuracy: 0.9036 - val_loss: 0.6184 - val_accuracy: 0.9143\n",
            "Epoch 30/100\n",
            "9/9 [==============================] - 0s 9ms/step - loss: 0.5568 - accuracy: 0.9214 - val_loss: 0.5812 - val_accuracy: 0.9429\n",
            "Epoch 31/100\n",
            "9/9 [==============================] - 0s 12ms/step - loss: 0.5507 - accuracy: 0.9071 - val_loss: 0.5942 - val_accuracy: 0.9143\n",
            "Epoch 32/100\n",
            "9/9 [==============================] - 0s 10ms/step - loss: 0.5207 - accuracy: 0.9393 - val_loss: 0.6931 - val_accuracy: 0.8286\n",
            "Epoch 33/100\n",
            "9/9 [==============================] - 0s 9ms/step - loss: 0.5161 - accuracy: 0.9286 - val_loss: 0.5800 - val_accuracy: 0.9143\n",
            "Epoch 34/100\n",
            "9/9 [==============================] - 0s 11ms/step - loss: 0.5178 - accuracy: 0.9179 - val_loss: 0.6039 - val_accuracy: 0.9143\n",
            "Epoch 35/100\n",
            "9/9 [==============================] - 0s 14ms/step - loss: 0.4968 - accuracy: 0.9357 - val_loss: 0.7513 - val_accuracy: 0.8000\n",
            "Epoch 36/100\n",
            "9/9 [==============================] - 0s 22ms/step - loss: 0.5325 - accuracy: 0.9036 - val_loss: 0.5365 - val_accuracy: 0.9143\n",
            "Epoch 37/100\n",
            "9/9 [==============================] - 0s 10ms/step - loss: 0.5349 - accuracy: 0.9071 - val_loss: 0.5648 - val_accuracy: 0.9143\n",
            "Epoch 38/100\n",
            "9/9 [==============================] - 0s 8ms/step - loss: 0.5194 - accuracy: 0.9143 - val_loss: 0.7156 - val_accuracy: 0.8000\n",
            "Epoch 39/100\n",
            "9/9 [==============================] - 0s 11ms/step - loss: 0.4872 - accuracy: 0.9286 - val_loss: 0.5821 - val_accuracy: 0.8571\n",
            "Epoch 40/100\n",
            "9/9 [==============================] - 0s 13ms/step - loss: 0.4818 - accuracy: 0.9321 - val_loss: 0.5293 - val_accuracy: 0.9143\n",
            "Epoch 41/100\n",
            "9/9 [==============================] - 0s 12ms/step - loss: 0.4717 - accuracy: 0.9429 - val_loss: 0.5957 - val_accuracy: 0.8571\n",
            "Epoch 42/100\n",
            "9/9 [==============================] - 0s 9ms/step - loss: 0.4668 - accuracy: 0.9536 - val_loss: 0.5426 - val_accuracy: 0.8857\n",
            "Epoch 43/100\n",
            "9/9 [==============================] - 0s 20ms/step - loss: 0.4799 - accuracy: 0.9250 - val_loss: 0.5245 - val_accuracy: 0.8857\n",
            "Epoch 44/100\n",
            "9/9 [==============================] - 0s 19ms/step - loss: 0.4715 - accuracy: 0.9464 - val_loss: 0.6107 - val_accuracy: 0.8571\n",
            "Epoch 45/100\n",
            "9/9 [==============================] - 0s 16ms/step - loss: 0.4355 - accuracy: 0.9571 - val_loss: 0.5249 - val_accuracy: 0.9143\n",
            "Epoch 46/100\n",
            "9/9 [==============================] - 0s 18ms/step - loss: 0.4525 - accuracy: 0.9393 - val_loss: 0.5246 - val_accuracy: 0.9143\n",
            "Epoch 47/100\n",
            "9/9 [==============================] - 0s 15ms/step - loss: 0.4598 - accuracy: 0.9429 - val_loss: 0.4959 - val_accuracy: 0.9143\n",
            "Epoch 48/100\n",
            "9/9 [==============================] - 0s 13ms/step - loss: 0.4668 - accuracy: 0.9464 - val_loss: 0.5619 - val_accuracy: 0.8857\n",
            "Epoch 49/100\n",
            "9/9 [==============================] - 0s 8ms/step - loss: 0.4348 - accuracy: 0.9571 - val_loss: 0.4952 - val_accuracy: 0.9143\n",
            "Epoch 50/100\n",
            "9/9 [==============================] - 0s 9ms/step - loss: 0.4407 - accuracy: 0.9393 - val_loss: 0.5248 - val_accuracy: 0.8857\n",
            "Epoch 51/100\n",
            "9/9 [==============================] - 0s 12ms/step - loss: 0.4180 - accuracy: 0.9571 - val_loss: 0.5441 - val_accuracy: 0.8857\n",
            "Epoch 52/100\n",
            "9/9 [==============================] - 0s 8ms/step - loss: 0.4321 - accuracy: 0.9429 - val_loss: 0.5291 - val_accuracy: 0.8857\n",
            "Epoch 53/100\n",
            "9/9 [==============================] - 0s 8ms/step - loss: 0.4387 - accuracy: 0.9500 - val_loss: 0.5117 - val_accuracy: 0.8857\n",
            "Epoch 54/100\n",
            "9/9 [==============================] - 0s 15ms/step - loss: 0.4101 - accuracy: 0.9679 - val_loss: 0.5283 - val_accuracy: 0.8857\n",
            "Epoch 55/100\n",
            "9/9 [==============================] - 0s 16ms/step - loss: 0.4481 - accuracy: 0.9500 - val_loss: 0.6107 - val_accuracy: 0.8286\n",
            "Epoch 56/100\n",
            "9/9 [==============================] - 0s 14ms/step - loss: 0.4521 - accuracy: 0.9393 - val_loss: 0.6305 - val_accuracy: 0.8286\n",
            "Epoch 57/100\n",
            "9/9 [==============================] - 0s 14ms/step - loss: 0.4455 - accuracy: 0.9393 - val_loss: 0.4927 - val_accuracy: 0.9143\n",
            "Epoch 58/100\n",
            "9/9 [==============================] - 0s 14ms/step - loss: 0.4041 - accuracy: 0.9679 - val_loss: 0.5975 - val_accuracy: 0.8286\n",
            "Epoch 59/100\n",
            "9/9 [==============================] - 0s 13ms/step - loss: 0.4187 - accuracy: 0.9571 - val_loss: 0.5482 - val_accuracy: 0.8857\n",
            "Epoch 60/100\n",
            "9/9 [==============================] - 0s 18ms/step - loss: 0.4264 - accuracy: 0.9571 - val_loss: 0.5004 - val_accuracy: 0.8857\n",
            "Epoch 61/100\n",
            "9/9 [==============================] - 0s 11ms/step - loss: 0.4200 - accuracy: 0.9500 - val_loss: 0.4968 - val_accuracy: 0.8857\n",
            "Epoch 62/100\n",
            "9/9 [==============================] - 0s 11ms/step - loss: 0.4033 - accuracy: 0.9750 - val_loss: 0.5188 - val_accuracy: 0.8857\n",
            "Epoch 63/100\n",
            "9/9 [==============================] - 0s 10ms/step - loss: 0.3997 - accuracy: 0.9536 - val_loss: 0.5187 - val_accuracy: 0.8857\n",
            "Epoch 64/100\n",
            "9/9 [==============================] - 0s 12ms/step - loss: 0.4207 - accuracy: 0.9429 - val_loss: 0.4628 - val_accuracy: 0.9429\n",
            "Epoch 65/100\n",
            "9/9 [==============================] - 0s 14ms/step - loss: 0.4112 - accuracy: 0.9536 - val_loss: 0.4686 - val_accuracy: 0.9143\n",
            "Epoch 66/100\n",
            "9/9 [==============================] - 0s 22ms/step - loss: 0.3845 - accuracy: 0.9643 - val_loss: 0.5063 - val_accuracy: 0.8857\n",
            "Epoch 67/100\n",
            "9/9 [==============================] - 0s 13ms/step - loss: 0.3955 - accuracy: 0.9643 - val_loss: 0.4750 - val_accuracy: 0.9714\n",
            "Epoch 68/100\n",
            "9/9 [==============================] - 0s 14ms/step - loss: 0.4151 - accuracy: 0.9393 - val_loss: 0.5395 - val_accuracy: 0.8857\n",
            "Epoch 69/100\n",
            "9/9 [==============================] - 0s 18ms/step - loss: 0.4068 - accuracy: 0.9500 - val_loss: 0.6402 - val_accuracy: 0.8286\n",
            "Epoch 70/100\n",
            "9/9 [==============================] - 0s 15ms/step - loss: 0.4313 - accuracy: 0.9429 - val_loss: 0.5054 - val_accuracy: 0.8857\n",
            "Epoch 71/100\n",
            "9/9 [==============================] - 0s 14ms/step - loss: 0.4496 - accuracy: 0.9250 - val_loss: 0.4797 - val_accuracy: 0.8857\n",
            "Epoch 72/100\n",
            "9/9 [==============================] - 0s 17ms/step - loss: 0.3920 - accuracy: 0.9750 - val_loss: 0.5359 - val_accuracy: 0.8857\n",
            "Epoch 73/100\n",
            "9/9 [==============================] - 0s 8ms/step - loss: 0.4053 - accuracy: 0.9679 - val_loss: 0.5438 - val_accuracy: 0.8857\n",
            "Epoch 74/100\n",
            "9/9 [==============================] - 0s 8ms/step - loss: 0.3951 - accuracy: 0.9643 - val_loss: 0.4763 - val_accuracy: 0.8857\n",
            "Epoch 75/100\n",
            "9/9 [==============================] - 0s 13ms/step - loss: 0.3880 - accuracy: 0.9679 - val_loss: 0.5020 - val_accuracy: 0.8857\n",
            "Epoch 76/100\n",
            "9/9 [==============================] - 0s 19ms/step - loss: 0.3788 - accuracy: 0.9750 - val_loss: 0.5293 - val_accuracy: 0.8857\n",
            "Epoch 77/100\n",
            "9/9 [==============================] - 0s 20ms/step - loss: 0.3773 - accuracy: 0.9643 - val_loss: 0.4949 - val_accuracy: 0.8857\n",
            "Epoch 78/100\n",
            "9/9 [==============================] - 0s 13ms/step - loss: 0.3974 - accuracy: 0.9643 - val_loss: 0.4738 - val_accuracy: 0.9143\n",
            "Epoch 79/100\n",
            "9/9 [==============================] - 0s 9ms/step - loss: 0.3933 - accuracy: 0.9571 - val_loss: 0.4773 - val_accuracy: 0.8857\n",
            "Epoch 80/100\n",
            "9/9 [==============================] - 0s 17ms/step - loss: 0.4070 - accuracy: 0.9464 - val_loss: 0.5081 - val_accuracy: 0.8857\n",
            "Epoch 81/100\n",
            "9/9 [==============================] - 0s 21ms/step - loss: 0.3850 - accuracy: 0.9643 - val_loss: 0.5900 - val_accuracy: 0.8286\n",
            "Epoch 82/100\n",
            "9/9 [==============================] - 0s 10ms/step - loss: 0.3927 - accuracy: 0.9500 - val_loss: 0.5369 - val_accuracy: 0.8857\n",
            "Epoch 83/100\n",
            "9/9 [==============================] - 0s 17ms/step - loss: 0.3667 - accuracy: 0.9679 - val_loss: 0.4901 - val_accuracy: 0.8857\n",
            "Epoch 84/100\n",
            "9/9 [==============================] - 0s 9ms/step - loss: 0.3668 - accuracy: 0.9714 - val_loss: 0.5128 - val_accuracy: 0.8857\n",
            "Epoch 85/100\n",
            "9/9 [==============================] - 0s 10ms/step - loss: 0.3800 - accuracy: 0.9679 - val_loss: 0.5216 - val_accuracy: 0.8857\n",
            "Epoch 86/100\n",
            "9/9 [==============================] - 0s 9ms/step - loss: 0.3660 - accuracy: 0.9714 - val_loss: 0.4681 - val_accuracy: 0.9429\n",
            "Epoch 87/100\n",
            "9/9 [==============================] - 0s 9ms/step - loss: 0.3863 - accuracy: 0.9607 - val_loss: 0.4612 - val_accuracy: 0.9429\n",
            "Epoch 88/100\n",
            "9/9 [==============================] - 0s 11ms/step - loss: 0.3879 - accuracy: 0.9464 - val_loss: 0.5415 - val_accuracy: 0.8571\n",
            "Epoch 89/100\n",
            "9/9 [==============================] - 0s 10ms/step - loss: 0.3756 - accuracy: 0.9714 - val_loss: 0.4799 - val_accuracy: 0.9143\n",
            "Epoch 90/100\n",
            "9/9 [==============================] - 0s 7ms/step - loss: 0.3695 - accuracy: 0.9679 - val_loss: 0.4864 - val_accuracy: 0.8857\n",
            "Epoch 91/100\n",
            "9/9 [==============================] - 0s 5ms/step - loss: 0.3689 - accuracy: 0.9750 - val_loss: 0.5722 - val_accuracy: 0.8286\n",
            "Epoch 92/100\n",
            "9/9 [==============================] - 0s 5ms/step - loss: 0.3722 - accuracy: 0.9679 - val_loss: 0.4627 - val_accuracy: 0.9143\n",
            "Epoch 93/100\n",
            "9/9 [==============================] - 0s 6ms/step - loss: 0.3688 - accuracy: 0.9821 - val_loss: 0.4966 - val_accuracy: 0.8857\n",
            "Epoch 94/100\n",
            "9/9 [==============================] - 0s 5ms/step - loss: 0.3645 - accuracy: 0.9679 - val_loss: 0.4750 - val_accuracy: 0.8857\n",
            "Epoch 95/100\n",
            "9/9 [==============================] - 0s 6ms/step - loss: 0.3682 - accuracy: 0.9643 - val_loss: 0.4710 - val_accuracy: 0.8857\n",
            "Epoch 96/100\n",
            "9/9 [==============================] - 0s 6ms/step - loss: 0.3617 - accuracy: 0.9643 - val_loss: 0.4948 - val_accuracy: 0.8857\n",
            "Epoch 97/100\n",
            "9/9 [==============================] - 0s 5ms/step - loss: 0.3925 - accuracy: 0.9500 - val_loss: 0.5608 - val_accuracy: 0.8571\n",
            "Epoch 98/100\n",
            "9/9 [==============================] - 0s 6ms/step - loss: 0.3652 - accuracy: 0.9821 - val_loss: 0.4898 - val_accuracy: 0.8857\n",
            "Epoch 99/100\n",
            "9/9 [==============================] - 0s 6ms/step - loss: 0.3639 - accuracy: 0.9786 - val_loss: 0.4552 - val_accuracy: 0.9429\n",
            "Epoch 100/100\n",
            "9/9 [==============================] - 0s 5ms/step - loss: 0.3582 - accuracy: 0.9786 - val_loss: 0.5261 - val_accuracy: 0.8571\n"
          ]
        }
      ]
    },
    {
      "cell_type": "code",
      "source": [
        "plt.plot(hist_3.history['loss'])\n",
        "plt.plot(hist_3.history['val_loss'])\n",
        "plt.title('Model loss')\n",
        "plt.ylabel('Loss')\n",
        "plt.xlabel('Epoch')\n",
        "plt.legend(['Train', 'Val'], loc='upper right')\n",
        "plt.ylim(top=1.2, bottom=0)\n",
        "plt.show()"
      ],
      "metadata": {
        "colab": {
          "base_uri": "https://localhost:8080/",
          "height": 295
        },
        "id": "iKVTBztwvwpz",
        "outputId": "98cfbb14-439d-4ef4-e60c-e715d84e3881"
      },
      "execution_count": null,
      "outputs": [
        {
          "output_type": "display_data",
          "data": {
            "text/plain": [
              "<Figure size 432x288 with 1 Axes>"
            ],
            "image/png": "[encoded data removed]"
          },
          "metadata": {
            "needs_background": "light"
          }
        }
      ]
    },
    {
      "cell_type": "code",
      "source": [
        "plt.plot(hist_3.history['accuracy'])\n",
        "plt.plot(hist_3.history['val_accuracy'])\n",
        "plt.title('Model accuracy')\n",
        "plt.ylabel('Accuracy')\n",
        "plt.xlabel('Epoch')\n",
        "plt.legend(['Train', 'Val'], loc='lower right')\n",
        "plt.show()"
      ],
      "metadata": {
        "colab": {
          "base_uri": "https://localhost:8080/",
          "height": 295
        },
        "id": "8NS4zTAEv3_q",
        "outputId": "bfa158cf-3b11-414c-ae3a-4f3a85b60cf9"
      },
      "execution_count": null,
      "outputs": [
        {
          "output_type": "display_data",
          "data": {
            "text/plain": [
              "<Figure size 432x288 with 1 Axes>"
            ],
            "image/png": "[encoded data removed]"
          },
          "metadata": {
            "needs_background": "light"
          }
        }
      ]
    }
  ]
}